{
 "cells": [
  {
   "cell_type": "code",
   "execution_count": 1,
   "id": "d55f0b4f-b5a9-4c71-85e5-d1174c6f834d",
   "metadata": {},
   "outputs": [
    {
     "name": "stdout",
     "output_type": "stream",
     "text": [
      "10\n",
      "9\n",
      "8\n",
      "7\n",
      "6\n",
      "5\n",
      "4\n",
      "3\n",
      "2\n",
      "1\n"
     ]
    }
   ],
   "source": [
    "for i in range (10, 0 , -1):\n",
    "    print(i)"
   ]
  },
  {
   "cell_type": "code",
   "execution_count": 13,
   "id": "a3f52aa5-a5ec-4ba3-9bf3-76b95eb96da7",
   "metadata": {},
   "outputs": [
    {
     "name": "stdin",
     "output_type": "stream",
     "text": [
      "Digite o Valor de N:  4\n"
     ]
    },
    {
     "name": "stdout",
     "output_type": "stream",
     "text": [
      "O fatorial de  4 é:  24 !!!\n"
     ]
    }
   ],
   "source": [
    "n = int(input(\"Digite o Valor de N: \"))\n",
    "\n",
    "fat = 1\n",
    "\n",
    "if n < 0:\n",
    "    print(\"Fatorial não existe!!\")\n",
    "elif n == 0:\n",
    "    print(\"Fatorial de 0 é 1!!\")\n",
    "else:\n",
    "    for i in range (1,n+1):\n",
    "        fat= fat*i\n",
    "print (\"O fatorial de \",n,\"é: \",fat,\"!!!\")\n",
    "        \n"
   ]
  },
  {
   "cell_type": "code",
   "execution_count": null,
   "id": "77b26948-18a7-4353-889a-cd131bff895e",
   "metadata": {},
   "outputs": [],
   "source": [
    "n = int(input(\"Digite um valor de 1 a 10: \"))\n",
    "\n",
    "if n == 1:\n",
    "    print(\"O fatorial de 1 é: 1\")\n",
    "elif n == 2:\n",
    "    print(\"O fatorial de 2 é: 2\")\n",
    "elif n == 3:\n",
    "    print(\"O fatorial de 3 é: 6\")\n",
    "elif n == 4:\n",
    "    print(\"O fatorial de 4 é: 24\")\n",
    "elif n == 5:\n",
    "    print(\"O fatorial de 5 é: 120\")\n",
    "elif n == 6:\n",
    "    print(\"O fatorial de 6 é: 720\")\n",
    "elif n == 7:\n",
    "    print(\"O fatorial de 7 é: 5040\")\n",
    "elif n == 8:\n",
    "    print(\"O fatorial de 8 é: 40320\")\n",
    "elif n == 9:\n",
    "    print(\"O fatorial de 9 é: 362880\")\n",
    "elif n == 10:\n",
    "    print(\"O fatorial de 10 é: 3628800\")\n",
    "else:\n",
    "    print(\"O número digitado está fora do intervalo de 1 a 10.\")"
   ]
  },
  {
   "cell_type": "code",
   "execution_count": 3,
   "id": "1f01f234-0df8-4c74-b2f5-d5c9994f4580",
   "metadata": {},
   "outputs": [
    {
     "name": "stdout",
     "output_type": "stream",
     "text": [
      " \n",
      "Digite seu peso em Kg: \n"
     ]
    },
    {
     "name": "stdin",
     "output_type": "stream",
     "text": [
      "None 89\n"
     ]
    },
    {
     "name": "stdout",
     "output_type": "stream",
     "text": [
      " \n",
      "digite sua altura em metros: \n"
     ]
    },
    {
     "name": "stdin",
     "output_type": "stream",
     "text": [
      "None 1.83\n"
     ]
    },
    {
     "name": "stdout",
     "output_type": "stream",
     "text": [
      " \n",
      "seu IMC é de:  26.575890590940304\n",
      " \n",
      " \n",
      "Digite seu peso em Kg: \n"
     ]
    },
    {
     "name": "stdin",
     "output_type": "stream",
     "text": [
      "None 68\n"
     ]
    },
    {
     "name": "stdout",
     "output_type": "stream",
     "text": [
      " \n",
      "digite sua altura em metros: \n"
     ]
    },
    {
     "name": "stdin",
     "output_type": "stream",
     "text": [
      "None 1.78\n"
     ]
    },
    {
     "name": "stdout",
     "output_type": "stream",
     "text": [
      " \n",
      "seu IMC é de:  21.461936624163616\n",
      " \n",
      "o peso médio é:  78.5\n",
      "a altura média é:  1.8050000000000002\n",
      "o maior imc é:  26.575890590940304\n",
      "o menor imc é:  21.461936624163616\n"
     ]
    }
   ],
   "source": [
    "maior_imc = 0\n",
    "menor_imc = 1000000000000\n",
    "somaA = 0\n",
    "somaP = 0\n",
    "for i in range (1,3):\n",
    "    print(\" \")\n",
    "    peso = float(input(print(\"Digite seu peso em Kg: \")))\n",
    "    print(\" \")\n",
    "    somaP = somaP + peso\n",
    "    altura = float(input(print(\"digite sua altura em metros: \")))\n",
    "    somaA = somaA + altura\n",
    "    imc = peso / (altura ** 2)\n",
    "    print(\" \")\n",
    "    print(\"seu IMC é de: \",imc)\n",
    "    print(\" \")\n",
    "    if imc <menor_imc:\n",
    "        menor_imc = imc\n",
    "    if imc > maior_imc:\n",
    "        maior_imc = imc  \n",
    "mediap = somaP / 2\n",
    "mediaa = somaA / 2\n",
    "print(\"o peso médio é: \",mediap)\n",
    "print(\"a altura média é: \",mediaa)\n",
    "print(\"o maior imc é: \",maior_imc)\n",
    "print(\"o menor imc é: \",menor_imc)"
   ]
  }
 ],
 "metadata": {
  "kernelspec": {
   "display_name": "Python [conda env:base] *",
   "language": "python",
   "name": "conda-base-py"
  },
  "language_info": {
   "codemirror_mode": {
    "name": "ipython",
    "version": 3
   },
   "file_extension": ".py",
   "mimetype": "text/x-python",
   "name": "python",
   "nbconvert_exporter": "python",
   "pygments_lexer": "ipython3",
   "version": "3.12.7"
  }
 },
 "nbformat": 4,
 "nbformat_minor": 5
}
