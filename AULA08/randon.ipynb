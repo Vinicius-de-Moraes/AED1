{
 "cells": [
  {
   "cell_type": "code",
   "execution_count": 3,
   "id": "8fda82d1-3436-4348-b42e-296ac17cef9b",
   "metadata": {},
   "outputs": [
    {
     "name": "stdout",
     "output_type": "stream",
     "text": [
      "o numero sorteado é:  15\n"
     ]
    }
   ],
   "source": [
    "## usando função random\n",
    "\n",
    "from random import randint\n",
    "\n",
    "j=randint (1,50)\n",
    "print(\"o numero sorteado é: \",n)\n"
   ]
  },
  {
   "cell_type": "code",
   "execution_count": null,
   "id": "419d2681-ec9a-44a3-969d-bc0b50e5fa6f",
   "metadata": {},
   "outputs": [
    {
     "name": "stdin",
     "output_type": "stream",
     "text": [
      "Digite um palpite sobre qual será o numero:  10\n"
     ]
    }
   ],
   "source": [
    "##\n",
    "\n",
    "p = int(input(\"Digite um palpite sobre qual será o numero: \"))\n",
    "print(\"seu palpite deve estar entre 1 e 50\")"
   ]
  },
  {
   "cell_type": "code",
   "execution_count": 21,
   "id": "af0aeea6-6332-4b7f-b093-9242fcd6ff75",
   "metadata": {},
   "outputs": [
    {
     "name": "stdin",
     "output_type": "stream",
     "text": [
      "Digite um palpite sobre qual será o numero: \n",
      " 8\n"
     ]
    },
    {
     "name": "stdout",
     "output_type": "stream",
     "text": [
      "\n",
      "você errou, o palpite foi menor que o numero sorteado \n",
      "você ainda tem  9 tentativas\n"
     ]
    },
    {
     "name": "stdin",
     "output_type": "stream",
     "text": [
      "Digite um palpite sobre qual será o numero: \n",
      " 8\n"
     ]
    },
    {
     "name": "stdout",
     "output_type": "stream",
     "text": [
      "\n",
      "você errou, o palpite foi menor que o numero sorteado \n",
      "você ainda tem  8 tentativas\n"
     ]
    },
    {
     "name": "stdin",
     "output_type": "stream",
     "text": [
      "Digite um palpite sobre qual será o numero: \n",
      " 8\n"
     ]
    },
    {
     "name": "stdout",
     "output_type": "stream",
     "text": [
      "\n",
      "você errou, o palpite foi menor que o numero sorteado \n",
      "você ainda tem  7 tentativas\n"
     ]
    },
    {
     "name": "stdin",
     "output_type": "stream",
     "text": [
      "Digite um palpite sobre qual será o numero: \n",
      " 8\n"
     ]
    },
    {
     "name": "stdout",
     "output_type": "stream",
     "text": [
      "\n",
      "você errou, o palpite foi menor que o numero sorteado \n",
      "você ainda tem  6 tentativas\n"
     ]
    },
    {
     "name": "stdin",
     "output_type": "stream",
     "text": [
      "Digite um palpite sobre qual será o numero: \n",
      " 8\n"
     ]
    },
    {
     "name": "stdout",
     "output_type": "stream",
     "text": [
      "\n",
      "você errou, o palpite foi menor que o numero sorteado \n",
      "você ainda tem  5 tentativas\n"
     ]
    },
    {
     "name": "stdin",
     "output_type": "stream",
     "text": [
      "Digite um palpite sobre qual será o numero: \n",
      " 8\n"
     ]
    },
    {
     "name": "stdout",
     "output_type": "stream",
     "text": [
      "\n",
      "você errou, o palpite foi menor que o numero sorteado \n",
      "você ainda tem  4 tentativas\n"
     ]
    },
    {
     "name": "stdin",
     "output_type": "stream",
     "text": [
      "Digite um palpite sobre qual será o numero: \n",
      " 8\n"
     ]
    },
    {
     "name": "stdout",
     "output_type": "stream",
     "text": [
      "\n",
      "você errou, o palpite foi menor que o numero sorteado \n",
      "você ainda tem  3 tentativas\n"
     ]
    },
    {
     "name": "stdin",
     "output_type": "stream",
     "text": [
      "Digite um palpite sobre qual será o numero: \n",
      " 8\n"
     ]
    },
    {
     "name": "stdout",
     "output_type": "stream",
     "text": [
      "\n",
      "você errou, o palpite foi menor que o numero sorteado \n",
      "você ainda tem  2 tentativas\n"
     ]
    },
    {
     "name": "stdin",
     "output_type": "stream",
     "text": [
      "Digite um palpite sobre qual será o numero: \n",
      " 8\n"
     ]
    },
    {
     "name": "stdout",
     "output_type": "stream",
     "text": [
      "\n",
      "você errou, o palpite foi menor que o numero sorteado \n",
      "você ainda tem  1 tentativas\n"
     ]
    },
    {
     "name": "stdin",
     "output_type": "stream",
     "text": [
      "Digite um palpite sobre qual será o numero: \n",
      " 8\n"
     ]
    },
    {
     "name": "stdout",
     "output_type": "stream",
     "text": [
      "suas chances acabaram, o numero era:  15\n"
     ]
    }
   ],
   "source": [
    "i=10\n",
    "while True:\n",
    "    p = int(input(\"Digite um palpite sobre qual será o numero: \\n\"))\n",
    "    i=i-1\n",
    "    if p == n:\n",
    "        print(\"\\nParabéns!! você é o cara!!\\n\")\n",
    "        break\n",
    "    elif p > n:\n",
    "        print(\"\\nvocê errou, o palpite foi maior que o numero sorteado\\n\")\n",
    "    elif i == 0:\n",
    "        break\n",
    "    else:\n",
    "        print(\"\\nvocê errou, o palpite foi menor que o numero sorteado \\nvocê ainda tem \",i,\"tentativas\")\n",
    "print(\"suas chances acabaram, o numero era: \",n)\n"
   ]
  },
  {
   "cell_type": "code",
   "execution_count": 25,
   "id": "01338cdb-603e-4aef-8b2c-9fd980d61a36",
   "metadata": {},
   "outputs": [
    {
     "name": "stdin",
     "output_type": "stream",
     "text": [
      "Digite um palpite sobre qual será o numero: \n",
      " 8\n"
     ]
    },
    {
     "name": "stdout",
     "output_type": "stream",
     "text": [
      "\n",
      "você errou, o palpite foi menor que o numero sorteado \n",
      "você ainda tem  9 tentativas\n"
     ]
    },
    {
     "name": "stdin",
     "output_type": "stream",
     "text": [
      "Digite um palpite sobre qual será o numero: \n",
      " 8\n"
     ]
    },
    {
     "name": "stdout",
     "output_type": "stream",
     "text": [
      "\n",
      "você errou, o palpite foi menor que o numero sorteado \n",
      "você ainda tem  8 tentativas\n"
     ]
    },
    {
     "name": "stdin",
     "output_type": "stream",
     "text": [
      "Digite um palpite sobre qual será o numero: \n",
      " 8\n"
     ]
    },
    {
     "name": "stdout",
     "output_type": "stream",
     "text": [
      "\n",
      "você errou, o palpite foi menor que o numero sorteado \n",
      "você ainda tem  7 tentativas\n"
     ]
    },
    {
     "name": "stdin",
     "output_type": "stream",
     "text": [
      "Digite um palpite sobre qual será o numero: \n",
      " 8\n"
     ]
    },
    {
     "name": "stdout",
     "output_type": "stream",
     "text": [
      "\n",
      "você errou, o palpite foi menor que o numero sorteado \n",
      "você ainda tem  6 tentativas\n"
     ]
    },
    {
     "name": "stdin",
     "output_type": "stream",
     "text": [
      "Digite um palpite sobre qual será o numero: \n",
      " 8\n"
     ]
    },
    {
     "name": "stdout",
     "output_type": "stream",
     "text": [
      "\n",
      "você errou, o palpite foi menor que o numero sorteado \n",
      "você ainda tem  5 tentativas\n"
     ]
    },
    {
     "name": "stdin",
     "output_type": "stream",
     "text": [
      "Digite um palpite sobre qual será o numero: \n",
      " 8\n"
     ]
    },
    {
     "name": "stdout",
     "output_type": "stream",
     "text": [
      "\n",
      "você errou, o palpite foi menor que o numero sorteado \n",
      "você ainda tem  4 tentativas\n"
     ]
    },
    {
     "name": "stdin",
     "output_type": "stream",
     "text": [
      "Digite um palpite sobre qual será o numero: \n",
      " 8\n"
     ]
    },
    {
     "name": "stdout",
     "output_type": "stream",
     "text": [
      "\n",
      "você errou, o palpite foi menor que o numero sorteado \n",
      "você ainda tem  3 tentativas\n"
     ]
    },
    {
     "name": "stdin",
     "output_type": "stream",
     "text": [
      "Digite um palpite sobre qual será o numero: \n",
      " 8\n"
     ]
    },
    {
     "name": "stdout",
     "output_type": "stream",
     "text": [
      "\n",
      "você errou, o palpite foi menor que o numero sorteado \n",
      "você ainda tem  2 tentativas\n"
     ]
    },
    {
     "name": "stdin",
     "output_type": "stream",
     "text": [
      "Digite um palpite sobre qual será o numero: \n",
      " 8\n"
     ]
    },
    {
     "name": "stdout",
     "output_type": "stream",
     "text": [
      "\n",
      "você errou, o palpite foi menor que o numero sorteado \n",
      "você ainda tem  1 tentativas\n"
     ]
    },
    {
     "name": "stdin",
     "output_type": "stream",
     "text": [
      "Digite um palpite sobre qual será o numero: \n",
      " 8\n"
     ]
    },
    {
     "name": "stdout",
     "output_type": "stream",
     "text": [
      "suas chances acabaram, o numero era:  15\n"
     ]
    },
    {
     "name": "stdin",
     "output_type": "stream",
     "text": [
      "\n",
      "quer jogar de novo?? \n",
      " 0 = Sim \n",
      " 1 = Não \n",
      "  R:  8\n"
     ]
    },
    {
     "name": "stdout",
     "output_type": "stream",
     "text": [
      "Obrigado por Jogar!!\n"
     ]
    }
   ],
   "source": [
    "## código de cima com o a pergunta se quer jogar de novo\n",
    "r=0\n",
    "n=randint (1,50)\n",
    "print(n)\n",
    "while True:\n",
    "    i=10\n",
    "    while True:\n",
    "        p = int(input(\"Digite um palpite sobre qual será o numero: \\n\"))\n",
    "        i=i-1\n",
    "        if p == n:\n",
    "            print(\"\\nParabéns!! você é o cara!!\\n\")\n",
    "            break\n",
    "        elif p > n:\n",
    "            print(\"\\nvocê errou, o palpite foi maior que o numero sorteado\\n\")\n",
    "        elif i == 0:\n",
    "            break\n",
    "        else:\n",
    "            print(\"\\nvocê errou, o palpite foi menor que o numero sorteado \\nvocê ainda tem \",i,\"tentativas\")\n",
    "    print(\"suas chances acabaram, o numero era: \",n)\n",
    "    r = int(input(\"\\nquer jogar de novo?? \\n 0 = Sim \\n 1 = Não \\n  R: \"))\n",
    "    if r == 0:\n",
    "        i=10\n",
    "        n=randint (1,50)\n",
    "        print(n)\n",
    "    else r == 1:\n",
    "        print(\"Obrigado por Jogar!!\")"
   ]
  },
  {
   "cell_type": "code",
   "execution_count": null,
   "id": "58f743f8-dc2e-48d8-aa32-8476c5a173e6",
   "metadata": {},
   "outputs": [],
   "source": []
  }
 ],
 "metadata": {
  "kernelspec": {
   "display_name": "Python [conda env:base] *",
   "language": "python",
   "name": "conda-base-py"
  },
  "language_info": {
   "codemirror_mode": {
    "name": "ipython",
    "version": 3
   },
   "file_extension": ".py",
   "mimetype": "text/x-python",
   "name": "python",
   "nbconvert_exporter": "python",
   "pygments_lexer": "ipython3",
   "version": "3.12.7"
  }
 },
 "nbformat": 4,
 "nbformat_minor": 5
}
