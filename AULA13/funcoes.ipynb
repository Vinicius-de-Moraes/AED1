{
 "cells": [
  {
   "cell_type": "code",
   "execution_count": 11,
   "id": "f995eb64-29f2-4e3b-9a98-458504a3128f",
   "metadata": {},
   "outputs": [
    {
     "name": "stdin",
     "output_type": "stream",
     "text": [
      "Digite o Valor em Celsius:  25\n"
     ]
    }
   ],
   "source": [
    "celsius = float(input(\"Digite o Valor em Celsius: \"))"
   ]
  },
  {
   "cell_type": "code",
   "execution_count": 15,
   "id": "20e1b0ce-4309-4dd5-b338-abd8f1d9d27a",
   "metadata": {},
   "outputs": [
    {
     "name": "stdin",
     "output_type": "stream",
     "text": [
      "Por favor, digite a temperatura em Celsius:  25\n"
     ]
    },
    {
     "name": "stdout",
     "output_type": "stream",
     "text": [
      "25.0°C é igual a 77.0°F\n"
     ]
    }
   ],
   "source": [
    "def celsius_para_fahrenheit(celsius):\n",
    "  \"\"\"\n",
    "  Converte uma temperatura de Graus Celsius para Fahrenheit.\n",
    "  \"\"\"\n",
    "  fahrenheit = (celsius * 9/5) + 32\n",
    "  return fahrenheit\n",
    "\n",
    "# --- Agora, vamos usar a função com um valor do usuário ---\n",
    "\n",
    "# 1. Pede ao usuário para digitar o valor em Celsius\n",
    "# O input() sempre retorna um texto (string)\n",
    "texto_celsius = input(\"Por favor, digite a temperatura em Celsius: \")\n",
    "\n",
    "# 2. Converte o texto digitado para um número (usamos float para números com vírgula)\n",
    "# Isso é MUITO importante, senão a matemática não funciona!\n",
    "try:\n",
    "  numero_celsius = float(texto_celsius)\n",
    "\n",
    "  # 3. AGORA sim, chamamos a função com o número que o usuário digitou\n",
    "  resultado_fahrenheit = celsius_para_fahrenheit(numero_celsius)\n",
    "\n",
    "  # 4. Mostra o resultado final\n",
    "  print(f\"{numero_celsius}°C é igual a {resultado_fahrenheit}°F\")\n",
    "\n",
    "except ValueError:\n",
    "  print(\"Erro: Você não digitou um número válido.\")"
   ]
  }
 ],
 "metadata": {
  "kernelspec": {
   "display_name": "Python [conda env:base] *",
   "language": "python",
   "name": "conda-base-py"
  },
  "language_info": {
   "codemirror_mode": {
    "name": "ipython",
    "version": 3
   },
   "file_extension": ".py",
   "mimetype": "text/x-python",
   "name": "python",
   "nbconvert_exporter": "python",
   "pygments_lexer": "ipython3",
   "version": "3.12.7"
  }
 },
 "nbformat": 4,
 "nbformat_minor": 5
}
