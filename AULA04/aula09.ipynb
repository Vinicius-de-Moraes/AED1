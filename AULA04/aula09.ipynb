{
 "cells": [
  {
   "cell_type": "code",
   "execution_count": 11,
   "id": "1237014c-c616-41f8-b5d7-75d85079f005",
   "metadata": {},
   "outputs": [
    {
     "name": "stdout",
     "output_type": "stream",
     "text": [
      "Olá, Vinicius !!\n",
      "Olá, Lauren !!\n",
      "Olá, Joaquim !!\n",
      "Olá, Pedro !!\n"
     ]
    }
   ],
   "source": [
    "#criar uma lista de nomes e em seguida percorrer a lista para que o loop escreva uma lista por vez\n",
    "\n",
    "nome = ['Vinicius','Lauren','Joaquim','Pedro']\n",
    "\n",
    "for alunos in nome:\n",
    "    num = nome.index(alunos)\n",
    "    print(\"Olá,\", nome[num],\"!!\")"
   ]
  },
  {
   "cell_type": "code",
   "execution_count": 22,
   "id": "1885fd39-9052-42e4-8c37-6d1053944c75",
   "metadata": {},
   "outputs": [
    {
     "name": "stdout",
     "output_type": "stream",
     "text": [
      "Digite o nome da cidade: <'Sair' para Sair>\n"
     ]
    },
    {
     "name": "stdin",
     "output_type": "stream",
     "text": [
      "None b\n"
     ]
    },
    {
     "name": "stdout",
     "output_type": "stream",
     "text": [
      "Digite o nome da cidade: <'Sair' para Sair>\n"
     ]
    },
    {
     "name": "stdin",
     "output_type": "stream",
     "text": [
      "None c\n"
     ]
    },
    {
     "name": "stdout",
     "output_type": "stream",
     "text": [
      "Digite o nome da cidade: <'Sair' para Sair>\n"
     ]
    },
    {
     "name": "stdin",
     "output_type": "stream",
     "text": [
      "None a\n"
     ]
    },
    {
     "name": "stdout",
     "output_type": "stream",
     "text": [
      "Digite o nome da cidade: <'Sair' para Sair>\n"
     ]
    },
    {
     "name": "stdin",
     "output_type": "stream",
     "text": [
      "None Sair\n"
     ]
    },
    {
     "name": "stdout",
     "output_type": "stream",
     "text": [
      "Olá, a !!\n",
      "Olá, b !!\n",
      "Olá, c !!\n"
     ]
    }
   ],
   "source": [
    "#Receber numeros ilimitados de cidades e aloca-los em uma lista\n",
    "\n",
    "cidades = [] #criei a lista vazia\n",
    "\n",
    "while True:\n",
    "    nome = input(print(\"Digite o nome da cidade: <'Sair' para Sair>\"))\n",
    "    if nome == \"Sair\":\n",
    "        break\n",
    "    else:\n",
    "        cidades.append(nome)\n",
    "cidades.sort()\n",
    "\n",
    "for cities in cidades:\n",
    "    numc = cidades.index(cities)\n",
    "    print(\"Olá,\", cidades[numc],\"!!\")\n",
    "\n",
    "\n",
    "\n",
    "\n"
   ]
  },
  {
   "cell_type": "code",
   "execution_count": 1,
   "id": "b8acd9b4-2c82-4e6a-9bb4-b312d5b1fc04",
   "metadata": {},
   "outputs": [
    {
     "name": "stdin",
     "output_type": "stream",
     "text": [
      "Digite quantos numeros você quer colher 8\n",
      "Digite um numero:  2\n",
      "Digite um numero:  10\n",
      "Digite um numero:  25\n",
      "Digite um numero:  7\n",
      "Digite um numero:  4\n",
      "Digite um numero:  11\n",
      "Digite um numero:  3\n",
      "Digite um numero:  6\n"
     ]
    },
    {
     "name": "stdout",
     "output_type": "stream",
     "text": [
      "\n",
      "--- Relatório Final ---\n",
      "Números digitados: [2, 10, 25, 7, 4, 11, 3, 6]\n",
      "Total de números:  8\n",
      "-------------------------\n",
      "Maior número:      25\n",
      "Menor número:      2\n",
      "Soma dos números:  68\n",
      "Média dos números: 8.5\n",
      "-------------------------\n"
     ]
    }
   ],
   "source": [
    "# lsta de numeros: Leia do usuário uma quantidade N de números (primeiro pergunte quantos números deseja inserir, depois leia esse total em um loop).\n",
    "\n",
    "numeros = []\n",
    "exit = 0\n",
    "n = int(input(\"Digite quantos numeros você quer colher\"))\n",
    "while True:\n",
    "    if exit != n:\n",
    "        coleta = int(input(\"Digite um numero: \"))\n",
    "        numeros.append(coleta)\n",
    "        exit = exit + 1\n",
    "    else:\n",
    "        break\n",
    "\n",
    "if n != 0:\n",
    "    # --- CÁLCULOS ---\n",
    "    menor = min(numeros)\n",
    "    maior = max(numeros)\n",
    "    soma = sum(numeros)\n",
    "    quantidade = len(numeros)\n",
    "    media = soma / quantidade   \n",
    "    \n",
    "    # --- RELATÓRIO DE SAÍDA ---\n",
    "    # O '\\n' no início pula uma linha para organizar\n",
    "    print(\"\\n--- Relatório Final ---\")\n",
    "    print(f\"Números digitados: {numeros}\")\n",
    "    print(f\"Total de números:  {quantidade}\")\n",
    "    print(\"-------------------------\")\n",
    "    print(f\"Maior número:      {maior}\")\n",
    "    print(f\"Menor número:      {menor}\")\n",
    "    print(f\"Soma dos números:  {soma}\")\n",
    "    print(f\"Média dos números: {media}\")\n",
    "    print(\"-------------------------\")\n",
    "\n",
    "else:\n",
    "    # Mensagem para o caso n=0\n",
    "    print(\"Você não inseriu nenhum número. Muito obrigado!!\")\n",
    "\n",
    "\n"
   ]
  }
 ],
 "metadata": {
  "kernelspec": {
   "display_name": "Python 3 (ipykernel)",
   "language": "python",
   "name": "python3"
  },
  "language_info": {
   "codemirror_mode": {
    "name": "ipython",
    "version": 3
   },
   "file_extension": ".py",
   "mimetype": "text/x-python",
   "name": "python",
   "nbconvert_exporter": "python",
   "pygments_lexer": "ipython3",
   "version": "3.13.5"
  }
 },
 "nbformat": 4,
 "nbformat_minor": 5
}
