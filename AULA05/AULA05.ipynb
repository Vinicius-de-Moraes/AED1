{
 "cells": [
  {
   "cell_type": "code",
   "execution_count": 1,
   "id": "c1649f46-1b11-4240-8c15-c200ab74a21d",
   "metadata": {},
   "outputs": [],
   "source": [
    "#Programa de atribuições\n",
    "\n",
    "A = 2\n",
    "B = 6\n",
    "C = 3\n",
    "D = 4\n",
    "E = 8\n",
    "F = 4"
   ]
  },
  {
   "cell_type": "code",
   "execution_count": 2,
   "id": "2f874350-5d07-425f-ac5c-73edbdaec60b",
   "metadata": {},
   "outputs": [
    {
     "data": {
      "text/plain": [
       "0.5"
      ]
     },
     "execution_count": 2,
     "metadata": {},
     "output_type": "execute_result"
    }
   ],
   "source": [
    "X= A+(B/C)/D-(E/F)\n",
    "X"
   ]
  },
  {
   "cell_type": "code",
   "execution_count": 3,
   "id": "58263d9e-2cf5-4dba-bea5-f6a01c685f2e",
   "metadata": {},
   "outputs": [
    {
     "data": {
      "text/plain": [
       "2"
      ]
     },
     "execution_count": 3,
     "metadata": {},
     "output_type": "execute_result"
    }
   ],
   "source": [
    "X=2\n",
    "X"
   ]
  },
  {
   "cell_type": "code",
   "execution_count": 5,
   "id": "237c635c-e13f-4a2c-873a-9c8fc745132b",
   "metadata": {},
   "outputs": [],
   "source": [
    "from math import sqrt"
   ]
  },
  {
   "cell_type": "code",
   "execution_count": 9,
   "id": "4fad61ab-9e39-4735-a2af-cf1b30e3d9c3",
   "metadata": {},
   "outputs": [
    {
     "data": {
      "text/plain": [
       "-1.7834936490538904"
      ]
     },
     "execution_count": 9,
     "metadata": {},
     "output_type": "execute_result"
    }
   ],
   "source": [
    "Y = (((2*X**2-3*X**(X+1))/2)+(sqrt(X+1)/X))/2**X\n",
    "Y"
   ]
  },
  {
   "cell_type": "code",
   "execution_count": 12,
   "id": "1d65a6de-901c-4eaf-8926-19b88bf814c5",
   "metadata": {},
   "outputs": [
    {
     "data": {
      "text/plain": [
       "-2.03125"
      ]
     },
     "execution_count": 12,
     "metadata": {},
     "output_type": "execute_result"
    }
   ],
   "source": [
    "X = (sqrt(2*B-4*A)+2*F**(-3))/(3-2*A)\n",
    "X"
   ]
  },
  {
   "cell_type": "code",
   "execution_count": null,
   "id": "a7cf40ef-454c-48ca-9f28-c875e59f282a",
   "metadata": {},
   "outputs": [],
   "source": [
    "## imput"
   ]
  },
  {
   "cell_type": "code",
   "execution_count": 14,
   "id": "8008169b-2541-4b9c-b702-6f4db65b2154",
   "metadata": {},
   "outputs": [
    {
     "name": "stdin",
     "output_type": "stream",
     "text": [
      "Digite o valor de x:  1\n",
      "Digite o valor de y:  2\n"
     ]
    },
    {
     "name": "stdout",
     "output_type": "stream",
     "text": [
      "Resultado da Soma:  3\n"
     ]
    }
   ],
   "source": [
    "x = int(input(\"Digite o valor de x: \"))\n",
    "y = int(input(\"Digite o valor de y: \"))\n",
    "print(\"Resultado da Soma: \", x+y)"
   ]
  },
  {
   "cell_type": "code",
   "execution_count": 15,
   "id": "3110241d-db0c-48f5-8358-e335825bd99d",
   "metadata": {},
   "outputs": [
    {
     "name": "stdin",
     "output_type": "stream",
     "text": [
      "Digite o valor da Base:  10\n",
      "Digite o Valor da Altura:  2\n"
     ]
    },
    {
     "name": "stdout",
     "output_type": "stream",
     "text": [
      "O valor da Área do Retângulo é:  20.0\n"
     ]
    }
   ],
   "source": [
    "# Calcular a área de um Quadilátero com 2 lados iguais (retângulo)\n",
    "\n",
    "Base = float(input(\"Digite o valor da Base: \"))\n",
    "Altura = float(input(\"Digite o Valor da Altura: \"))\n",
    "Area = Base * Altura\n",
    "print(\"O valor da Área do Retângulo é: \",Area)"
   ]
  },
  {
   "cell_type": "code",
   "execution_count": 16,
   "id": "e70b56c9-af88-46b5-bae7-dae274a1a09e",
   "metadata": {},
   "outputs": [
    {
     "name": "stdin",
     "output_type": "stream",
     "text": [
      "Digite a Temparatura em C:  1\n"
     ]
    },
    {
     "name": "stdout",
     "output_type": "stream",
     "text": [
      "A temperatura em F é de:  33.8\n"
     ]
    }
   ],
   "source": [
    "## Ler a Temperatura em C e apresentar em F\n",
    "\n",
    "C = float(input(\"Digite a Temparatura em C: \"))\n",
    "F = (9*C+160)/5\n",
    "\n",
    "print(\"A temperatura em F é de: \",F)"
   ]
  },
  {
   "cell_type": "code",
   "execution_count": 19,
   "id": "617c3802-9213-48a5-91c9-66cf2fa1d931",
   "metadata": {},
   "outputs": [
    {
     "name": "stdin",
     "output_type": "stream",
     "text": [
      "Digite o valor de X1:  3\n",
      "Digite o valor de y1:  4\n",
      "Digite o valor de X2:  0\n",
      "Digite o valor de y2:  0\n"
     ]
    },
    {
     "name": "stdout",
     "output_type": "stream",
     "text": [
      "\n",
      "Calculando a Distância entre os dois pontos...\n",
      "\n",
      "A Distância entre os dois pontos é de:  5.0\n"
     ]
    }
   ],
   "source": [
    "## Medir a distância entre dois pontos pitagoras\n",
    "\n",
    "x1= float(input(\"Digite o valor de X1: \"))\n",
    "y1= float(input(\"Digite o valor de y1: \"))\n",
    "x2= float(input(\"Digite o valor de X2: \"))\n",
    "y2= float(input(\"Digite o valor de y2: \"))\n",
    "\n",
    "print(\"\\nCalculando a Distância entre os dois pontos...\")\n",
    "\n",
    "cx = abs(x1 - x2)\n",
    "cy = abs(y1 - y2)\n",
    "\n",
    "h = sqrt(((cx**2)+(cy**2)))\n",
    "\n",
    "print(\"\\nA Distância entre os dois pontos é de: \",h)"
   ]
  },
  {
   "cell_type": "code",
   "execution_count": 22,
   "id": "0048d4df-bc8f-4825-8081-7dcf3613a029",
   "metadata": {},
   "outputs": [
    {
     "name": "stdin",
     "output_type": "stream",
     "text": [
      "Digite seu nome:  Vinicinho Paulada\n"
     ]
    },
    {
     "name": "stdout",
     "output_type": "stream",
     "text": [
      "\n",
      "Bom dia!!  Vinicinho Paulada !!\n"
     ]
    }
   ],
   "source": [
    "#Escreva um algoritmo que receba o nome do usuário e lhe deseje “Bom-dia!”.\n",
    "\n",
    "nome = input(\"Digite seu nome: \")\n",
    "\n",
    "print(\"\\nBom dia!! \",nome,\"!!\")\n"
   ]
  },
  {
   "cell_type": "code",
   "execution_count": 25,
   "id": "743b5388-16a5-4d23-b540-7217b47c76e1",
   "metadata": {},
   "outputs": [
    {
     "name": "stdout",
     "output_type": "stream",
     "text": [
      "\n",
      "Saudações!!\n"
     ]
    },
    {
     "name": "stdin",
     "output_type": "stream",
     "text": [
      "\n",
      "Digite o ano em que você nasceu:  2002\n",
      "\n",
      "Digite em que ano estamos:  2025\n"
     ]
    },
    {
     "name": "stdout",
     "output_type": "stream",
     "text": [
      "\n",
      "Sua idade em Anos é de:  23\n",
      "\n",
      "Sua idade em Meses é de:  276\n",
      "\n",
      "Sua idade em Dias é de:  8395\n",
      "\n",
      "Sua idade em Semanas é de:  1196\n"
     ]
    }
   ],
   "source": [
    "#Faça um algoritmo que receba o ano de nascimento de uma pessoa e o ano atual e mostre:\n",
    "\n",
    "# a) A idade dessa pessoa em anos;\n",
    "\n",
    "print(\"\\nSaudações!!\")\n",
    "nasc = int(input(\"\\nDigite o ano em que você nasceu: \"))\n",
    "ano =  int(input(\"\\nDigite em que ano estamos: \"))\n",
    "ianos= ano-nasc\n",
    "\n",
    "print(\"\\nSua idade em Anos é de: \",ianos)\n",
    "\n",
    "# b) A idade dessa pessoa em meses;\n",
    "manos= ianos * 12\n",
    "\n",
    "print(\"\\nSua idade em Meses é de: \",manos)\n",
    "\n",
    "# c) A idade dessa pessoa em dias;\n",
    "danos= ianos * 365\n",
    "\n",
    "print(\"\\nSua idade em Dias é de: \",danos)\n",
    "\n",
    "\n",
    "# d) A idade dessa pessoa em semanas.\n",
    "sanos= ianos * 52\n",
    "\n",
    "print(\"\\nSua idade em Semanas é de: \",sanos)"
   ]
  },
  {
   "cell_type": "code",
   "execution_count": 27,
   "id": "f9401e64-0da1-47fe-aeec-d22dd014e5c7",
   "metadata": {},
   "outputs": [
    {
     "name": "stdin",
     "output_type": "stream",
     "text": [
      "Digite o seu Salário:  3000\n"
     ]
    },
    {
     "name": "stdout",
     "output_type": "stream",
     "text": [
      "Seu novo Salário agora será de R$: 3750.0\n"
     ]
    }
   ],
   "source": [
    "#Faça um algoritmo que receba o salário de um funcionário, calcule e mostre o novo salário, sabendo-se que este sofreu um aumento de 25%.\n",
    "\n",
    "sal = float(input(\"Digite o seu Salário: \"))\n",
    "novosal = sal * 1.25\n",
    "\n",
    "print(\"Seu novo Salário agora será de R$:\",novosal)"
   ]
  },
  {
   "cell_type": "code",
   "execution_count": 28,
   "id": "4f9f1400-6d32-4bfa-8c43-fddddd1d7361",
   "metadata": {},
   "outputs": [
    {
     "name": "stdin",
     "output_type": "stream",
     "text": [
      "Digite o seu Salário:  1000\n",
      "Digite o Percentual de aumento: <Digite o percentual em formato decimal ex: 30% = 0,30> 0.50\n"
     ]
    },
    {
     "name": "stdout",
     "output_type": "stream",
     "text": [
      "Seu novo Salário agora será de R$: 1500.0\n"
     ]
    }
   ],
   "source": [
    "#Faça um algoritmo que receba o salário de um funcionário e o percentual de aumento, calcule e mostre o valor do aumento e o novo salário.\n",
    "\n",
    "sal = float(input(\"Digite o seu Salário: \"))\n",
    "aum = float(input(\"Digite o Percentual de aumento: <Digite o percentual em formato decimal ex: 30% = 0.30>\"))\n",
    "\n",
    "novosal = sal * (1+aum)\n",
    "print(\"Seu novo Salário agora será de R$:\",novosal)"
   ]
  },
  {
   "cell_type": "code",
   "execution_count": 29,
   "id": "fa551fae-e39c-4a8c-86aa-a765b43e395f",
   "metadata": {},
   "outputs": [
    {
     "name": "stdin",
     "output_type": "stream",
     "text": [
      "Digite o valor do Depósito:  10\n",
      "Digite o Percentual de juros: <Digite o percentual em formato decimal ex: 30% = 0.30> .5\n"
     ]
    },
    {
     "name": "stdout",
     "output_type": "stream",
     "text": [
      "\n",
      "Seu rendimento será de R$: 5.0\n",
      "\n",
      "Você receberá no final o Valor de R$: 15.0\n"
     ]
    }
   ],
   "source": [
    "#Faça um algoritmo que receba o valor de um depósito e o valor da taxa de juros, calcule e mostre o valor do rendimento e o valor total depois do rendimento.\n",
    "\n",
    "dep = float(input(\"Digite o valor do Depósito: \"))\n",
    "tax = float(input(\"Digite o Percentual de juros: <Digite o percentual em formato decimal ex: 30% = 0.30>\"))\n",
    "\n",
    "\n",
    "rend =  dep * tax\n",
    "total = dep * (1+tax)\n",
    "print(\"\\nSeu rendimento será de R$:\",rend)\n",
    "print(\"\\nVocê receberá no final o Valor de R$:\",total)"
   ]
  },
  {
   "cell_type": "code",
   "execution_count": 30,
   "id": "34c46a4d-349c-4310-8f15-f979dafb5573",
   "metadata": {},
   "outputs": [
    {
     "name": "stdin",
     "output_type": "stream",
     "text": [
      "Digite o valor da Base:  3\n",
      "Digite o Valor da Altura:  3\n"
     ]
    },
    {
     "name": "stdout",
     "output_type": "stream",
     "text": [
      "O valor da Área do Retângulo é:  4.5\n"
     ]
    }
   ],
   "source": [
    "#Faça um algoritmo que calcule e mostre a área de um triângulo. Sabe-se que Área = (base * altura)/2\n",
    "\n",
    "Base = float(input(\"Digite o valor da Base: \"))\n",
    "Altura = float(input(\"Digite o Valor da Altura: \"))\n",
    "Area = (Base * Altura) / 2\n",
    "print(\"O valor da Área do Retângulo é: \",Area)\n",
    "\n"
   ]
  },
  {
   "cell_type": "code",
   "execution_count": 31,
   "id": "8fde839b-ddd9-469a-8225-aa0357cabd11",
   "metadata": {},
   "outputs": [
    {
     "name": "stdout",
     "output_type": "stream",
     "text": [
      "Calculadora de Área do Circulo\n"
     ]
    },
    {
     "name": "stdin",
     "output_type": "stream",
     "text": [
      "Digite o valor do raio:  1\n"
     ]
    },
    {
     "name": "stdout",
     "output_type": "stream",
     "text": [
      "O valor da Área do Circulo é:  3.1415\n"
     ]
    }
   ],
   "source": [
    "#Faça um algoritmo que calcule e mostre a área de um círculo. Sabe-se que Area= π * R2\n",
    "\n",
    "print(\"Calculadora de Área do Circulo\")\n",
    "pi = 3.1415\n",
    "raio = float(input(\"Digite o valor do raio: \"))\n",
    "Area = pi * (raio**2)\n",
    "\n",
    "print(\"O valor da Área do Circulo é: \",Area)"
   ]
  },
  {
   "cell_type": "code",
   "execution_count": 34,
   "id": "3bba2626-af89-49da-aef6-adc49fca4c2f",
   "metadata": {},
   "outputs": [
    {
     "name": "stdout",
     "output_type": "stream",
     "text": [
      "Conversão de medidas inglaterra\n"
     ]
    },
    {
     "name": "stdin",
     "output_type": "stream",
     "text": [
      "Digite o valor em pés:  5280\n"
     ]
    },
    {
     "name": "stdout",
     "output_type": "stream",
     "text": [
      "\n",
      "O valor em polegadas é de :  63360.0\n",
      "\n",
      "O valor em jardas é de :  1760.0\n",
      "\n",
      "O valor em milhas é de :  1.0\n"
     ]
    }
   ],
   "source": [
    "# Sabe-se que:\n",
    "# • 1 pé = 12 polegadas\n",
    "# • 1 jarda = 3 pés\n",
    "# • 1 milha = 1760 jardas\n",
    "\n",
    "# Faça um algoritmo que receba uma medida em pés, faça as conversões a seguir e mostre os resultados:\n",
    "\n",
    "\n",
    "print(\"Conversão de medidas inglaterra\")\n",
    "\n",
    "pe = float(input(\"Digite o valor em pés: \"))\n",
    "\n",
    "# a) Polegadas\n",
    "pol = pe*12\n",
    "\n",
    "print(\"\\nO valor em polegadas é de : \",pol)\n",
    "\n",
    "# b) Jardas\n",
    "jar = pe/3\n",
    "\n",
    "print(\"\\nO valor em jardas é de : \",jar)\n",
    "\n",
    "# c) milhas\n",
    "milhas = jar/1760\n",
    "\n",
    "print(\"\\nO valor em milhas é de : \",milhas)"
   ]
  },
  {
   "cell_type": "code",
   "execution_count": 38,
   "id": "1a3ffa32-6dff-4ec7-8829-63a4281b0b2a",
   "metadata": {},
   "outputs": [
    {
     "name": "stdout",
     "output_type": "stream",
     "text": [
      "Calculadora de degrais\n"
     ]
    },
    {
     "name": "stdin",
     "output_type": "stream",
     "text": [
      "Digite a altura de um degrau em cm:  10\n",
      "Digite a altura do vão em metros:  1\n"
     ]
    },
    {
     "name": "stdout",
     "output_type": "stream",
     "text": [
      "sua escada precisa ter  10.0 degrais para chegar ao topo do vão de  1.0 metros\n"
     ]
    }
   ],
   "source": [
    "#Cada degrau de uma escada tem Xcm de altura. Faça um algoritmo que receba a altura de cada degrau em\n",
    "#cm e a altura que o usuário deseja alcançar subindo a escada (em metros). Faça as conversões, calcule e\n",
    "#mostre quantos degraus o usuário deverá subir para atingir seu objetivo.\n",
    "\n",
    "print(\"Calculadora de degrais\")\n",
    "\n",
    "degrau = float(input(\"Digite a altura de um degrau em cm: \"))\n",
    "vao = float(input(\"Digite a altura do vão em metros: \"))\n",
    "\n",
    "vaocm = vao * 100\n",
    "\n",
    "numdegrau = vaocm / degrau\n",
    "\n",
    "print(\"sua escada precisa ter \", numdegrau, \"degrais para chegar ao topo do vão de \",vao,\"metros\")\n"
   ]
  }
 ],
 "metadata": {
  "kernelspec": {
   "display_name": "Python 3 (ipykernel)",
   "language": "python",
   "name": "python3"
  },
  "language_info": {
   "codemirror_mode": {
    "name": "ipython",
    "version": 3
   },
   "file_extension": ".py",
   "mimetype": "text/x-python",
   "name": "python",
   "nbconvert_exporter": "python",
   "pygments_lexer": "ipython3",
   "version": "3.13.5"
  }
 },
 "nbformat": 4,
 "nbformat_minor": 5
}
