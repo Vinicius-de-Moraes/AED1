{
 "cells": [
  {
   "cell_type": "code",
   "execution_count": 7,
   "id": "5cc5ac7b-3dc7-48a8-81fa-380e15eae10a",
   "metadata": {},
   "outputs": [
    {
     "name": "stdin",
     "output_type": "stream",
     "text": [
      "Digite sua idade:  23\n"
     ]
    }
   ],
   "source": [
    "idade = int(input(\"Digite sua idade: \"))"
   ]
  },
  {
   "cell_type": "code",
   "execution_count": 5,
   "id": "c16afc70-97c4-4f0b-bb29-f57ae861d565",
   "metadata": {},
   "outputs": [
    {
     "data": {
      "text/plain": [
       "int"
      ]
     },
     "execution_count": 5,
     "metadata": {},
     "output_type": "execute_result"
    }
   ],
   "source": [
    "type(idade)"
   ]
  },
  {
   "cell_type": "code",
   "execution_count": 23,
   "id": "d39c5b31-e9a3-4590-96be-e897127798b8",
   "metadata": {},
   "outputs": [
    {
     "name": "stdout",
     "output_type": "stream",
     "text": [
      "você ja é maior de idade\n",
      "Fim\n"
     ]
    }
   ],
   "source": [
    "if idade >= 10:\n",
    "    print(\"você ja é maior de idade\")\n",
    "else:\n",
    "    print(\"você não é maior de idade\")\n",
    "print (\"Fim\")"
   ]
  },
  {
   "cell_type": "code",
   "execution_count": 3,
   "id": "d7291def-419a-4f94-be72-8659100d5698",
   "metadata": {
    "scrolled": true
   },
   "outputs": [
    {
     "name": "stdin",
     "output_type": "stream",
     "text": [
      "Digite sua primeira nota:  7\n",
      "Digite sua segunda nota:  8.99\n"
     ]
    },
    {
     "name": "stdout",
     "output_type": "stream",
     "text": [
      "Sua média foi:  7.995\n",
      "Você está aprovado!!\n"
     ]
    }
   ],
   "source": [
    "nota1 = float(input(\"Digite sua primeira nota: \"))\n",
    "nota2 = float(input(\"Digite sua segunda nota: \"))\n",
    "\n",
    "medinota = ((nota1 + nota2) / 2)\n",
    "\n",
    "print(\"Sua média foi: \",medinota)\n",
    "\n",
    "if medinota >= 6:\n",
    "    print(\"Você está aprovado!!\")\n",
    "\n",
    "else:\n",
    "    print(\"Faça a recuperação\")"
   ]
  },
  {
   "cell_type": "code",
   "execution_count": 11,
   "id": "3870a877-e525-4567-aa3d-b0dfb689e668",
   "metadata": {},
   "outputs": [
    {
     "name": "stdin",
     "output_type": "stream",
     "text": [
      "dgite um numero:  5\n"
     ]
    },
    {
     "name": "stdout",
     "output_type": "stream",
     "text": [
      "o numero é positivo: \n"
     ]
    }
   ],
   "source": [
    "numero = int(input(\"dgite um numero: \"))\n",
    "if numero >= 0:\n",
    "    print (\"o numero é positivo: \")"
   ]
  },
  {
   "cell_type": "code",
   "execution_count": 15,
   "id": "d0008cb5-0bc3-4ae3-9394-f49a4a35b332",
   "metadata": {},
   "outputs": [
    {
     "name": "stdin",
     "output_type": "stream",
     "text": [
      "Digite o numero 1:  4\n",
      "Digite o numero 2:  4\n"
     ]
    },
    {
     "name": "stdout",
     "output_type": "stream",
     "text": [
      "Achou que ia me enganar?? os numeros são iguais!!\n"
     ]
    }
   ],
   "source": [
    "num1 = float(input(\"Digite o numero 1: \"))\n",
    "num2 = float(input(\"Digite o numero 2: \"))\n",
    "\n",
    "if num1 > num2:\n",
    "    print(\"O primeiro numero é maior!!\")\n",
    "else:\n",
    "    if num1 == num2:\n",
    "        print (\"Achou que ia me enganar?? os numeros são iguais!!\")\n",
    "    else:\n",
    "        print (\"O segundo numero é maior!!\")\n",
    "\n",
    "\n"
   ]
  },
  {
   "cell_type": "code",
   "execution_count": 19,
   "id": "2dacb034-c1f1-4ece-abb1-5ec7f7c52511",
   "metadata": {},
   "outputs": [
    {
     "name": "stdin",
     "output_type": "stream",
     "text": [
      "Digite a letra:  j\n"
     ]
    },
    {
     "name": "stdout",
     "output_type": "stream",
     "text": [
      "A letra  j é uma consoante\n"
     ]
    }
   ],
   "source": [
    "letra = input(\"Digite a letra: \")\n",
    "if letra == 'a' or letra == 'A':\n",
    "    print(\"a Letra\",letra, \" é uma vogal!!\")\n",
    "elif letra == 'e' or letra == 'E':\n",
    "    print(\"a Letra\",letra, \" é uma vogal!!\")\n",
    "elif letra == 'i' or letra == 'I':\n",
    "    print(\"a Letra\",letra, \" é uma vogal!!\")\n",
    "elif letra == 'o' or letra == 'O':\n",
    "    print(\"a Letra\",letra, \" é uma vogal!!\")\n",
    "else:\n",
    "    print(\"A letra \",letra,\"é uma consoante\")"
   ]
  },
  {
   "cell_type": "code",
   "execution_count": null,
   "id": "7ca32e5b-e68b-4a1c-9cb2-a1a5d5b50c73",
   "metadata": {},
   "outputs": [],
   "source": [
    "n = int(input(\"Entre com um numero: \")\n",
    "\n",
    "if (n >= 0):\n",
    "    if (n % 2) == 0:\n",
    "        print (\" é par positivo\")\n",
    "    "
   ]
  }
 ],
 "metadata": {
  "kernelspec": {
   "display_name": "Python [conda env:base] *",
   "language": "python",
   "name": "conda-base-py"
  },
  "language_info": {
   "codemirror_mode": {
    "name": "ipython",
    "version": 3
   },
   "file_extension": ".py",
   "mimetype": "text/x-python",
   "name": "python",
   "nbconvert_exporter": "python",
   "pygments_lexer": "ipython3",
   "version": "3.12.7"
  }
 },
 "nbformat": 4,
 "nbformat_minor": 5
}
