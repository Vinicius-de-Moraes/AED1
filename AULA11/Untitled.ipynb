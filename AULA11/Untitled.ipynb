{
 "cells": [
  {
   "cell_type": "code",
   "execution_count": 5,
   "id": "f61772e2-5255-45d0-b07c-a03dc38951a9",
   "metadata": {},
   "outputs": [],
   "source": [
    "vendas_agosto = {\n",
    "    \"04/08/2025\": 2350,\n",
    "    \"05/08/2025\": 1980,\n",
    "    \"06/08/2025\": 2540,\n",
    "    \"07/08/2025\": 2100,\n",
    "    \"08/08/2025\": 3050,\n",
    "    \"11/08/2025\": 2650,\n",
    "    \"12/08/2025\": 2180,\n",
    "    \"13/08/2025\": 2760,\n",
    "    \"14/08/2025\": 2920,\n",
    "    \"15/08/2025\": 3100,\n",
    "    \"18/08/2025\": 2300,\n",
    "    \"19/08/2025\": 2430,\n",
    "    \"20/08/2025\": 2210,\n",
    "    \"21/08/2025\": 2790,\n",
    "    \"22/08/2025\": 2970,\n",
    "    \"25/08/2025\": 3100,\n",
    "    \"26/08/2025\": 2880,\n",
    "    \"27/08/2025\": 2600,\n",
    "    \"28/08/2025\": 2500,\n",
    "    \"29/08/2025\": 3400\n",
    "}"
   ]
  },
  {
   "cell_type": "code",
   "execution_count": 45,
   "id": "91cd12ab-9be4-463f-8bb3-cd5e35fc1612",
   "metadata": {},
   "outputs": [],
   "source": [
    "VendasAgostoValores = list(vendas_agosto.values())"
   ]
  },
  {
   "cell_type": "code",
   "execution_count": 39,
   "id": "a6693ebc-b273-4267-bfb3-1a7bed65dd44",
   "metadata": {},
   "outputs": [],
   "source": [
    "VendasAgostoValores = sum (vendas_agosto.values())"
   ]
  },
  {
   "cell_type": "code",
   "execution_count": 113,
   "id": "ab9611be-5f25-42e6-b87b-9da9a3bf3436",
   "metadata": {},
   "outputs": [],
   "source": [
    "SomaDosValores = sum(VendasAgostoValores)"
   ]
  },
  {
   "cell_type": "code",
   "execution_count": 101,
   "id": "2316ed98-8476-42d0-ac4b-81b8cf9fe781",
   "metadata": {},
   "outputs": [
    {
     "data": {
      "text/plain": [
       "['04/08/2025',\n",
       " '05/08/2025',\n",
       " '06/08/2025',\n",
       " '07/08/2025',\n",
       " '08/08/2025',\n",
       " '11/08/2025',\n",
       " '12/08/2025',\n",
       " '13/08/2025',\n",
       " '14/08/2025',\n",
       " '15/08/2025',\n",
       " '18/08/2025',\n",
       " '19/08/2025',\n",
       " '20/08/2025',\n",
       " '21/08/2025',\n",
       " '22/08/2025',\n",
       " '25/08/2025',\n",
       " '26/08/2025',\n",
       " '27/08/2025',\n",
       " '28/08/2025',\n",
       " '29/08/2025']"
      ]
     },
     "execution_count": 101,
     "metadata": {},
     "output_type": "execute_result"
    }
   ],
   "source": [
    "VendasAgostoChaves = list(vendas_agosto.keys())\n",
    "VendasAgostoChaves"
   ]
  },
  {
   "cell_type": "code",
   "execution_count": 105,
   "id": "415de597-e96d-43f9-867e-f56a0a3ded0a",
   "metadata": {},
   "outputs": [],
   "source": [
    "numdias = len(VendasAgostoChaves)"
   ]
  },
  {
   "cell_type": "code",
   "execution_count": 75,
   "id": "f6df8f25-597f-49da-8adb-24d75de07feb",
   "metadata": {},
   "outputs": [],
   "source": [
    "semana1 = VendasAgostoValores[0:5]\n",
    "semana2 = VendasAgostoValores[6:10]\n",
    "semana3 = VendasAgostoValores[11:15]\n",
    "semana4 = VendasAgostoValores[16:20]"
   ]
  },
  {
   "cell_type": "code",
   "execution_count": 77,
   "id": "cd1d5fb8-2deb-4065-b958-42c1906ef5f4",
   "metadata": {},
   "outputs": [
    {
     "data": {
      "text/plain": [
       "[2350, 1980, 2540, 2100, 3050]"
      ]
     },
     "execution_count": 77,
     "metadata": {},
     "output_type": "execute_result"
    }
   ],
   "source": [
    "semana1"
   ]
  },
  {
   "cell_type": "code",
   "execution_count": 79,
   "id": "fb245c76-6a5b-4f86-922e-49aa91ff6473",
   "metadata": {},
   "outputs": [
    {
     "data": {
      "text/plain": [
       "[2180, 2760, 2920, 3100]"
      ]
     },
     "execution_count": 79,
     "metadata": {},
     "output_type": "execute_result"
    }
   ],
   "source": [
    "semana2"
   ]
  },
  {
   "cell_type": "code",
   "execution_count": 81,
   "id": "7a85139b-d890-4efe-8222-13eabe3408d6",
   "metadata": {},
   "outputs": [
    {
     "data": {
      "text/plain": [
       "[2430, 2210, 2790, 2970]"
      ]
     },
     "execution_count": 81,
     "metadata": {},
     "output_type": "execute_result"
    }
   ],
   "source": [
    "semana3"
   ]
  },
  {
   "cell_type": "code",
   "execution_count": 83,
   "id": "e059176a-8adc-456b-b1b8-d85ed8403668",
   "metadata": {},
   "outputs": [
    {
     "data": {
      "text/plain": [
       "[2880, 2600, 2500, 3400]"
      ]
     },
     "execution_count": 83,
     "metadata": {},
     "output_type": "execute_result"
    }
   ],
   "source": [
    "semana4"
   ]
  },
  {
   "cell_type": "code",
   "execution_count": 87,
   "id": "21bbfea8-9445-43aa-9262-8b3a9de60592",
   "metadata": {},
   "outputs": [
    {
     "data": {
      "text/plain": [
       "12020"
      ]
     },
     "execution_count": 87,
     "metadata": {},
     "output_type": "execute_result"
    }
   ],
   "source": [
    "ss1 = sum(semana1)\n",
    "ss1"
   ]
  },
  {
   "cell_type": "code",
   "execution_count": 89,
   "id": "05eaa51a-73b3-44e6-aad3-36355f76fd7a",
   "metadata": {},
   "outputs": [
    {
     "data": {
      "text/plain": [
       "10960"
      ]
     },
     "execution_count": 89,
     "metadata": {},
     "output_type": "execute_result"
    }
   ],
   "source": [
    "ss2 = sum(semana2)\n",
    "ss2"
   ]
  },
  {
   "cell_type": "code",
   "execution_count": 91,
   "id": "1dd91cb4-c866-4456-b58f-e2c89bda3e35",
   "metadata": {},
   "outputs": [
    {
     "data": {
      "text/plain": [
       "10400"
      ]
     },
     "execution_count": 91,
     "metadata": {},
     "output_type": "execute_result"
    }
   ],
   "source": [
    "ss3 = sum(semana3)\n",
    "ss3"
   ]
  },
  {
   "cell_type": "code",
   "execution_count": 93,
   "id": "c7bb7a11-747c-469e-8579-46012222a5b5",
   "metadata": {},
   "outputs": [
    {
     "data": {
      "text/plain": [
       "11380"
      ]
     },
     "execution_count": 93,
     "metadata": {},
     "output_type": "execute_result"
    }
   ],
   "source": [
    "ss4 = sum(semana4)\n",
    "ss4"
   ]
  },
  {
   "cell_type": "code",
   "execution_count": 117,
   "id": "38f67484-63d2-4165-a843-650de2ac08f5",
   "metadata": {},
   "outputs": [
    {
     "data": {
      "text/plain": [
       "2640.5"
      ]
     },
     "execution_count": 117,
     "metadata": {},
     "output_type": "execute_result"
    }
   ],
   "source": [
    "mediaM = SomaDosValores/numdias\n",
    "mediaM"
   ]
  },
  {
   "cell_type": "code",
   "execution_count": 157,
   "id": "021344c8-0552-4fdc-ba85-a57292bbedd3",
   "metadata": {},
   "outputs": [
    {
     "name": "stdout",
     "output_type": "stream",
     "text": [
      "A data do Maximo Valor é:  29/08/2025\n"
     ]
    }
   ],
   "source": [
    "#encontrar o valor maximo da lista e depois escrever e a chave dele\n",
    "MaxValor = max (VendasAgostoValores)\n",
    "IndexMaxValor = VendasAgostoValores.index(MaxValor)\n",
    "ChaveMaxValor = VendasAgostoChaves[IndexMaxValor]\n",
    "print(\"A data do Maximo Valor é: \",ChaveMaxValor)"
   ]
  },
  {
   "cell_type": "code",
   "execution_count": 155,
   "id": "b3aad723-e77f-4bc5-81be-a020bc17da19",
   "metadata": {},
   "outputs": [
    {
     "name": "stdout",
     "output_type": "stream",
     "text": [
      "A data do Minimo Valor é:  05/08/2025\n"
     ]
    }
   ],
   "source": [
    "#encontrar o valor minimo da lista e depois escrever e a chave dele\n",
    "MinValor = min(VendasAgostoValores)\n",
    "IndexMinValor = VendasAgostoValores.index(MinValor)\n",
    "ChaveMinValor = VendasAgostoChaves[IndexMinValor]\n",
    "print(\"A data do Minimo Valor é: \",ChaveMinValor)"
   ]
  },
  {
   "cell_type": "code",
   "execution_count": 187,
   "id": "8e6b6a0c-e1ec-47d8-b985-3c78e515fbf6",
   "metadata": {},
   "outputs": [
    {
     "name": "stdout",
     "output_type": "stream",
     "text": [
      "\n",
      "----------------------------------------------------------------\n",
      " Relatório de Vendas com informações Chaves\n",
      "\n",
      "----------------------------------------------------------------\n",
      "\n",
      "A soma dos Valores de Vendas mensal foi de R$: 52810\n",
      "\n",
      "----------------------------------------------------------------\n",
      "\n",
      "A soma dos Valores de Vendas da semana 1 foi de R$: 12020\n",
      "\n",
      "A soma dos Valores de Vendas da semana 2 foi de R$: 10960\n",
      "\n",
      "A soma dos Valores de Vendas da semana 3 foi de R$: 10400\n",
      "\n",
      "A soma dos Valores de Vendas da semana 4 foi de R$: 11380\n",
      "\n",
      "\n",
      "----------------------------------------------------------------\n",
      "\n",
      "O recorde de vendas foi de R$: 3400 \n",
      "e essa marca foi atingida no dia 29/08/2025\n",
      "\n",
      "\n",
      "----------------------------------------------------------------\n",
      "\n",
      "O pior valor de vendas foi de R$: 1980 \n",
      "e essa valor foi atingido no dia 05/08/2025\n",
      "\n",
      "\n",
      "----------------------------------------------------------------\n",
      "\n",
      "\n",
      "----------------------------------------------------------------\n"
     ]
    }
   ],
   "source": [
    "#Exibir um relatório com as infomações\n",
    "\n",
    "print(\"\\n----------------------------------------------------------------\")\n",
    "print(\" Relatório de Vendas com informações Chaves\")\n",
    "print(\"\\n----------------------------------------------------------------\")\n",
    "\n",
    "print(\"\\nA soma dos Valores de Vendas mensal foi de R$:\",SomaDosValores)\n",
    "print(\"\\n----------------------------------------------------------------\")\n",
    "print(\"\\nA soma dos Valores de Vendas da semana 1 foi de R$:\",ss1)\n",
    "print(\"\\nA soma dos Valores de Vendas da semana 2 foi de R$:\",ss2)\n",
    "print(\"\\nA soma dos Valores de Vendas da semana 3 foi de R$:\",ss3)\n",
    "print(\"\\nA soma dos Valores de Vendas da semana 4 foi de R$:\",ss4)\n",
    "print(\"\\n\\n----------------------------------------------------------------\")\n",
    "print(\"\\nO recorde de vendas foi de R$:\",MaxValor,\"\\ne essa marca foi atingida no dia\",ChaveMaxValor)\n",
    "print(\"\\n\\n----------------------------------------------------------------\")\n",
    "print(\"\\nO pior valor de vendas foi de R$:\",MinValor,\"\\ne essa valor foi atingido no dia\",ChaveMinValor)\n",
    "print(\"\\n\\n----------------------------------------------------------------\")\n",
    "print(\"\\n\\n----------------------------------------------------------------\")"
   ]
  }
 ],
 "metadata": {
  "kernelspec": {
   "display_name": "Python [conda env:base] *",
   "language": "python",
   "name": "conda-base-py"
  },
  "language_info": {
   "codemirror_mode": {
    "name": "ipython",
    "version": 3
   },
   "file_extension": ".py",
   "mimetype": "text/x-python",
   "name": "python",
   "nbconvert_exporter": "python",
   "pygments_lexer": "ipython3",
   "version": "3.12.7"
  }
 },
 "nbformat": 4,
 "nbformat_minor": 5
}
