{
 "cells": [
  {
   "cell_type": "code",
   "execution_count": 1,
   "id": "47d934ca-b5b7-40d8-8482-cc3ae4bdec10",
   "metadata": {},
   "outputs": [
    {
     "data": {
      "text/plain": [
       "5"
      ]
     },
     "execution_count": 1,
     "metadata": {},
     "output_type": "execute_result"
    }
   ],
   "source": [
    "2+3"
   ]
  },
  {
   "cell_type": "code",
   "execution_count": 3,
   "id": "a25511e8-8082-4c9d-a591-c8265878de74",
   "metadata": {},
   "outputs": [
    {
     "name": "stdout",
     "output_type": "stream",
     "text": [
      "Olá Mundo!\n"
     ]
    }
   ],
   "source": [
    "print (\"Olá Mundo!\")"
   ]
  },
  {
   "cell_type": "code",
   "execution_count": 12,
   "id": "cfd57c00-9cd9-4946-8375-e83456916688",
   "metadata": {},
   "outputs": [
    {
     "name": "stdout",
     "output_type": "stream",
     "text": [
      "2\n",
      "2\n",
      "2\n"
     ]
    }
   ],
   "source": [
    "print(1+1),print(1+1)\n",
    "print(1+1)"
   ]
  },
  {
   "cell_type": "code",
   "execution_count": 14,
   "id": "b7d7a72c-8fa7-410d-b6e9-c7e1bbf03c91",
   "metadata": {},
   "outputs": [],
   "source": [
    "x=70"
   ]
  },
  {
   "cell_type": "code",
   "execution_count": 21,
   "id": "1c01b3b1-f003-4f9c-a899-d172b9090098",
   "metadata": {},
   "outputs": [],
   "source": [
    "y=5"
   ]
  },
  {
   "cell_type": "code",
   "execution_count": 23,
   "id": "dab88332-d8ad-4f00-bcca-00b74a5bdf92",
   "metadata": {},
   "outputs": [
    {
     "name": "stdout",
     "output_type": "stream",
     "text": [
      "75\n"
     ]
    }
   ],
   "source": [
    "print(x+y)"
   ]
  },
  {
   "cell_type": "code",
   "execution_count": null,
   "id": "16ff8587-10ce-4286-81c2-08b2418b8ec3",
   "metadata": {},
   "outputs": [],
   "source": []
  }
 ],
 "metadata": {
  "kernelspec": {
   "display_name": "Python [conda env:base] *",
   "language": "python",
   "name": "conda-base-py"
  },
  "language_info": {
   "codemirror_mode": {
    "name": "ipython",
    "version": 3
   },
   "file_extension": ".py",
   "mimetype": "text/x-python",
   "name": "python",
   "nbconvert_exporter": "python",
   "pygments_lexer": "ipython3",
   "version": "3.12.7"
  }
 },
 "nbformat": 4,
 "nbformat_minor": 5
}
